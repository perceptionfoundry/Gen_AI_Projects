{
 "cells": [
  {
   "cell_type": "markdown",
   "metadata": {},
   "source": [
    "#### Chroma\n",
    "Chroma is a AI-native open-source vector database focused on developer productivity and happiness. Chroma is licensed under Apache 2.0.\n",
    "\n",
    "https://python.langchain.com/v0.2/docs/integrations/vectorstores/"
   ]
  },
  {
   "cell_type": "code",
   "execution_count": 3,
   "metadata": {},
   "outputs": [],
   "source": [
    "## building a sample vectordb\n",
    "from langchain_chroma import Chroma\n",
    "from langchain_community.document_loaders import TextLoader\n",
    "from langchain_community.embeddings import OllamaEmbeddings\n",
    "from langchain_text_splitters import RecursiveCharacterTextSplitter"
   ]
  },
  {
   "cell_type": "code",
   "execution_count": 4,
   "metadata": {},
   "outputs": [
    {
     "data": {
      "text/plain": [
       "[Document(metadata={'source': 'Speech.txt'}, page_content='Speech on AI: The Future is Here\\n\\nGood [morning/afternoon/evening] everyone,\\n\\nArtificial Intelligence is no longer just science fiction—it is shaping our world today. From personal assistants like Siri to self-driving cars, AI is transforming how we live, work, and connect.\\n\\nBusinesses use AI for automation, boosting efficiency and innovation. Healthcare benefits from AI-driven diagnoses, improving patient care. Even creative fields, like music and art, are evolving with AI-powered tools.\\n\\nHowever, AI also raises ethical questions. Bias, privacy concerns, and job displacement must be addressed responsibly. AI should serve humanity, not replace it.\\n\\nThe future of AI depends on how we develop and regulate it. We must ensure it remains a tool for progress, equality, and empowerment.\\n\\nAs we stand on the brink of an AI-driven era, let’s use this technology wisely—to enhance human potential and build a better world.\\n\\nThank you!')]"
      ]
     },
     "execution_count": 4,
     "metadata": {},
     "output_type": "execute_result"
    }
   ],
   "source": [
    "loader = TextLoader(\"Speech.txt\")\n",
    "data = loader.load()\n",
    "data"
   ]
  },
  {
   "cell_type": "code",
   "execution_count": 5,
   "metadata": {},
   "outputs": [],
   "source": [
    "# Split\n",
    "text_splitter = RecursiveCharacterTextSplitter(chunk_size=500, chunk_overlap=0)\n",
    "splits = text_splitter.split_documents(data)"
   ]
  },
  {
   "cell_type": "code",
   "execution_count": 7,
   "metadata": {},
   "outputs": [
    {
     "data": {
      "text/plain": [
       "<langchain_chroma.vectorstores.Chroma at 0x125bdd5d0>"
      ]
     },
     "execution_count": 7,
     "metadata": {},
     "output_type": "execute_result"
    }
   ],
   "source": [
    "embeddings = (\n",
    "    OllamaEmbeddings(model=\"deepseek-r1:8b\") ## default llama\n",
    ")\n",
    "vectordb=Chroma.from_documents(documents=splits,embedding=embeddings)\n",
    "vectordb"
   ]
  },
  {
   "cell_type": "code",
   "execution_count": 8,
   "metadata": {},
   "outputs": [
    {
     "name": "stderr",
     "output_type": "stream",
     "text": [
      "Number of requested results 4 is greater than number of elements in index 2, updating n_results = 2\n"
     ]
    },
    {
     "data": {
      "text/plain": [
       "'However, AI also raises ethical questions. Bias, privacy concerns, and job displacement must be addressed responsibly. AI should serve humanity, not replace it.\\n\\nThe future of AI depends on how we develop and regulate it. We must ensure it remains a tool for progress, equality, and empowerment.\\n\\nAs we stand on the brink of an AI-driven era, let’s use this technology wisely—to enhance human potential and build a better world.\\n\\nThank you!'"
      ]
     },
     "execution_count": 8,
     "metadata": {},
     "output_type": "execute_result"
    }
   ],
   "source": [
    "## query it\n",
    "query = \"What does the speaker believe is the main reason the United States should enter the war?\"\n",
    "docs = vectordb.similarity_search(query)\n",
    "docs[0].page_content"
   ]
  },
  {
   "cell_type": "code",
   "execution_count": 10,
   "metadata": {},
   "outputs": [],
   "source": [
    "## Saving to the disk\n",
    "vectordb=Chroma.from_documents(documents=splits,embedding=embeddings,persist_directory=\"./chroma_db\")\n"
   ]
  },
  {
   "cell_type": "code",
   "execution_count": 11,
   "metadata": {},
   "outputs": [
    {
     "name": "stderr",
     "output_type": "stream",
     "text": [
      "Number of requested results 4 is greater than number of elements in index 2, updating n_results = 2\n"
     ]
    },
    {
     "name": "stdout",
     "output_type": "stream",
     "text": [
      "However, AI also raises ethical questions. Bias, privacy concerns, and job displacement must be addressed responsibly. AI should serve humanity, not replace it.\n",
      "\n",
      "The future of AI depends on how we develop and regulate it. We must ensure it remains a tool for progress, equality, and empowerment.\n",
      "\n",
      "As we stand on the brink of an AI-driven era, let’s use this technology wisely—to enhance human potential and build a better world.\n",
      "\n",
      "Thank you!\n"
     ]
    }
   ],
   "source": [
    "# load from disk\n",
    "db2 = Chroma(persist_directory=\"./chroma_db\", embedding_function=embeddings)\n",
    "docs=db2.similarity_search(query)\n",
    "print(docs[0].page_content)"
   ]
  },
  {
   "cell_type": "code",
   "execution_count": 12,
   "metadata": {},
   "outputs": [
    {
     "name": "stderr",
     "output_type": "stream",
     "text": [
      "Number of requested results 4 is greater than number of elements in index 2, updating n_results = 2\n"
     ]
    },
    {
     "data": {
      "text/plain": [
       "[(Document(id='7cb2c51b-3971-462a-9d9a-85e11626ccbf', metadata={'source': 'Speech.txt'}, page_content='However, AI also raises ethical questions. Bias, privacy concerns, and job displacement must be addressed responsibly. AI should serve humanity, not replace it.\\n\\nThe future of AI depends on how we develop and regulate it. We must ensure it remains a tool for progress, equality, and empowerment.\\n\\nAs we stand on the brink of an AI-driven era, let’s use this technology wisely—to enhance human potential and build a better world.\\n\\nThank you!'),\n",
       "  26410.61496522282),\n",
       " (Document(id='5830244f-dc38-4032-bc76-ec1917ee153a', metadata={'source': 'Speech.txt'}, page_content='Speech on AI: The Future is Here\\n\\nGood [morning/afternoon/evening] everyone,\\n\\nArtificial Intelligence is no longer just science fiction—it is shaping our world today. From personal assistants like Siri to self-driving cars, AI is transforming how we live, work, and connect.\\n\\nBusinesses use AI for automation, boosting efficiency and innovation. Healthcare benefits from AI-driven diagnoses, improving patient care. Even creative fields, like music and art, are evolving with AI-powered tools.'),\n",
       "  31661.309998135253)]"
      ]
     },
     "execution_count": 12,
     "metadata": {},
     "output_type": "execute_result"
    }
   ],
   "source": [
    "## similarity Search With Score\n",
    "docs = vectordb.similarity_search_with_score(query)\n",
    "docs"
   ]
  },
  {
   "cell_type": "code",
   "execution_count": 13,
   "metadata": {},
   "outputs": [
    {
     "name": "stderr",
     "output_type": "stream",
     "text": [
      "Number of requested results 4 is greater than number of elements in index 2, updating n_results = 2\n"
     ]
    },
    {
     "data": {
      "text/plain": [
       "'However, AI also raises ethical questions. Bias, privacy concerns, and job displacement must be addressed responsibly. AI should serve humanity, not replace it.\\n\\nThe future of AI depends on how we develop and regulate it. We must ensure it remains a tool for progress, equality, and empowerment.\\n\\nAs we stand on the brink of an AI-driven era, let’s use this technology wisely—to enhance human potential and build a better world.\\n\\nThank you!'"
      ]
     },
     "execution_count": 13,
     "metadata": {},
     "output_type": "execute_result"
    }
   ],
   "source": [
    "### Retriever option\n",
    "retriever=vectordb.as_retriever()\n",
    "retriever.invoke(query)[0].page_content"
   ]
  },
  {
   "cell_type": "code",
   "execution_count": null,
   "metadata": {},
   "outputs": [],
   "source": []
  }
 ],
 "metadata": {
  "kernelspec": {
   "display_name": "Python 3",
   "language": "python",
   "name": "python3"
  },
  "language_info": {
   "codemirror_mode": {
    "name": "ipython",
    "version": 3
   },
   "file_extension": ".py",
   "mimetype": "text/x-python",
   "name": "python",
   "nbconvert_exporter": "python",
   "pygments_lexer": "ipython3",
   "version": "3.11.11"
  }
 },
 "nbformat": 4,
 "nbformat_minor": 2
}
