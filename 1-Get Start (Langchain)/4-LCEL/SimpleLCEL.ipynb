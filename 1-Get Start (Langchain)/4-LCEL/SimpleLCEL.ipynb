{
 "cells": [
  {
   "cell_type": "code",
   "execution_count": 21,
   "metadata": {},
   "outputs": [
    {
     "data": {
      "text/plain": [
       "ChatGroq(client=<groq.resources.chat.completions.Completions object at 0x128619290>, async_client=<groq.resources.chat.completions.AsyncCompletions object at 0x12930ad10>, model_name='gemma2-9b-it', model_kwargs={}, groq_api_key=SecretStr('**********'))"
      ]
     },
     "execution_count": 21,
     "metadata": {},
     "output_type": "execute_result"
    }
   ],
   "source": [
    "import os\n",
    "from langchain_groq import ChatGroq\n",
    "\n",
    "from dotenv import load_dotenv\n",
    "\n",
    "load_dotenv()\n",
    "\n",
    "grog_key = os.getenv(\"GROQ_API_KEY\")\n",
    "grog_key\n",
    "\n",
    "model  = ChatGroq(model=\"gemma2-9b-it\",api_key=grog_key)\n",
    "model"
   ]
  },
  {
   "cell_type": "code",
   "execution_count": null,
   "metadata": {},
   "outputs": [],
   "source": [
    "from langchain_core.messages import HumanMessage, SystemMessage\n",
    "\n",
    "messages = [\n",
    "    SystemMessage(\"Translate into Urdu\"),\n",
    "    HumanMessage(\"How are you?\") \n",
    "]\n",
    "\n",
    "result = model.invoke(messages)"
   ]
  },
  {
   "cell_type": "code",
   "execution_count": 24,
   "metadata": {},
   "outputs": [
    {
     "data": {
      "text/plain": [
       "'There are a few ways to translate \"How are you?\" into Urdu, depending on the level of formality:\\n\\n**Formal:**\\n\\n* **آپ کیسے ہیں؟** (Aap kaise hain?) - This is the most common and formal way to ask \"How are you?\"\\n\\n**Informal:**\\n\\n* **کیسے ہو؟** (Kaise ho?) - This is a more casual way to ask \"How are you?\"\\n* **کیوں؟** (Kyon?) - This is a very informal way to ask \"How are you?\" and is usually used with close friends.\\n\\n\\nPlease note that the appropriate translation will depend on the context and your relationship with the person you are speaking to.\\n'"
      ]
     },
     "execution_count": 24,
     "metadata": {},
     "output_type": "execute_result"
    }
   ],
   "source": [
    "from langchain_core.output_parsers import StrOutputParser\n",
    "\n",
    "parse = StrOutputParser()\n",
    "\n",
    "parse.invoke(result)"
   ]
  },
  {
   "cell_type": "code",
   "execution_count": 25,
   "metadata": {},
   "outputs": [
    {
     "data": {
      "text/plain": [
       "'There are a few ways to translate \"How are you?\" into Urdu, depending on the level of formality:\\n\\n* **آپ کیسے ہیں؟** (aap kaise hain?) - This is the most formal way to ask \"How are you?\" and is used when addressing someone you respect.\\n\\n* **تم کیسے ہو؟** (tum kaise ho?) - This is a more informal way to ask \"How are you?\" and is used when addressing someone you know well.\\n\\n* **کیسے ہو؟** (kaise ho?) - This is the most casual way to ask \"How are you?\" and is used when talking to close friends or family.\\n\\n\\n\\n'"
      ]
     },
     "execution_count": 25,
     "metadata": {},
     "output_type": "execute_result"
    }
   ],
   "source": [
    "chain = model|parse\n",
    "\n",
    "chain.invoke(messages)"
   ]
  },
  {
   "cell_type": "code",
   "execution_count": 29,
   "metadata": {},
   "outputs": [],
   "source": [
    "from langchain_core.prompts  import ChatPromptTemplate\n",
    "\n",
    "generic_template =  \"translate sentence into {language}:\"\n",
    "\n",
    "prompt = ChatPromptTemplate.from_messages(\n",
    "    [(\"system\", generic_template), (\"user\",\"{text}\")]\n",
    "    )\n",
    "\n",
    "result_prompt = prompt.invoke({\"language\":\"Urdu\", \"text\":\"how are you?\"})"
   ]
  },
  {
   "cell_type": "code",
   "execution_count": 31,
   "metadata": {},
   "outputs": [
    {
     "data": {
      "text/plain": [
       "[SystemMessage(content='translate sentence into Urdu:', additional_kwargs={}, response_metadata={}),\n",
       " HumanMessage(content='how are you?', additional_kwargs={}, response_metadata={})]"
      ]
     },
     "execution_count": 31,
     "metadata": {},
     "output_type": "execute_result"
    }
   ],
   "source": [
    "result_prompt.to_messages()"
   ]
  },
  {
   "cell_type": "code",
   "execution_count": 32,
   "metadata": {},
   "outputs": [
    {
     "data": {
      "text/plain": [
       "'The most common translation for \"how are you?\" in Urdu is:\\n\\n**کیا حال ہے؟** (Kya haal hai?) \\n\\nThis is a general greeting and can be used with both friends and strangers.\\n\\n\\nHere are some other ways to say \"how are you?\" in Urdu:\\n\\n* **آپ کیسے ہیں؟** (Aap kaise hain?) - This is a more formal way to say \"how are you?\" and is used when addressing someone with respect, such as an elder or someone in a position of authority.\\n* **تم کیسے ہو؟** (Tum kaise ho?) - This is a casual way to say \"how are you?\" and is used with friends and family.\\n\\n\\n\\nLet me know if you have any other phrases you\\'d like translated!\\n'"
      ]
     },
     "execution_count": 32,
     "metadata": {},
     "output_type": "execute_result"
    }
   ],
   "source": [
    "chain = prompt|model|parse\n",
    "\n",
    "chain.invoke({\"language\":\"Urdu\", \"text\":\"how are you?\"})"
   ]
  },
  {
   "cell_type": "code",
   "execution_count": null,
   "metadata": {},
   "outputs": [],
   "source": []
  }
 ],
 "metadata": {
  "kernelspec": {
   "display_name": "Python 3",
   "language": "python",
   "name": "python3"
  },
  "language_info": {
   "codemirror_mode": {
    "name": "ipython",
    "version": 3
   },
   "file_extension": ".py",
   "mimetype": "text/x-python",
   "name": "python",
   "nbconvert_exporter": "python",
   "pygments_lexer": "ipython3",
   "version": "3.11.11"
  }
 },
 "nbformat": 4,
 "nbformat_minor": 2
}
